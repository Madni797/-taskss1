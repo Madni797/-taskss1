{
  "nbformat": 4,
  "nbformat_minor": 0,
  "metadata": {
    "colab": {
      "provenance": []
    },
    "kernelspec": {
      "name": "python3",
      "display_name": "Python 3"
    },
    "language_info": {
      "name": "python"
    }
  },
  "cells": [
    {
      "cell_type": "code",
      "source": [
        "import requests\n",
        "\n",
        "API_KEY = \"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\"  # <-- paste your OpenRouter key here\n",
        "\n",
        "def query_openrouter(prompt):\n",
        "    headers = {\n",
        "        \"Authorization\": f\"Bearer {API_KEY}\",\n",
        "        \"Content-Type\": \"application/json\"\n",
        "    }\n",
        "\n",
        "    data = {\n",
        "        \"model\": \"mistralai/mistral-7b-instruct\",  # or use \"openai/gpt-3.5-turbo\" or \"meta-llama/llama-3-8b-instruct\"\n",
        "        \"messages\": [\n",
        "            {\"role\": \"system\", \"content\": \"You are a helpful AI assistant.\"},\n",
        "            {\"role\": \"user\", \"content\": prompt}\n",
        "        ]\n",
        "    }\n",
        "\n",
        "    response = requests.post(\"https://openrouter.ai/api/v1/chat/completions\", headers=headers, json=data)\n",
        "\n",
        "    if response.status_code == 200:\n",
        "        return response.json()['choices'][0]['message']['content']\n",
        "    else:\n",
        "        return f\"❌ Error {response.status_code}: {response.text}\""
      ],
      "metadata": {
        "id": "4_9jAts81Q1h"
      },
      "execution_count": null,
      "outputs": []
    },
    {
      "cell_type": "code",
      "source": [
        "while True:\n",
        "    user_input = input(\"💬 You: \")\n",
        "    if user_input.lower() in ['exit', 'quit']:\n",
        "        break\n",
        "    response = query_openrouter(user_input)\n",
        "    print(f\"🤖 Bot: {response}\\n\")"
      ],
      "metadata": {
        "colab": {
          "base_uri": "https://localhost:8080/"
        },
        "id": "6DZvauuc1uFj",
        "outputId": "a0b2e57e-5383-4542-beb1-4252dfb6d3e6"
      },
      "execution_count": null,
      "outputs": [
        {
          "output_type": "stream",
          "name": "stdout",
          "text": [
            "💬 You: symtoms of headach\n",
            "🤖 Bot:  I'm not a doctor, but I can provide some common symptoms associated with headaches. If you have persistent headaches or severe symptoms, please consult a medical professional. Here are some common symptoms:\n",
            "\n",
            "1. Pain on one side or both sides of the head\n",
            "2. Sensitivity to light and sound\n",
            "3. Nausea or vomiting\n",
            "4. Dizziness or loss of balance\n",
            "5. Blurred vision or tunnel vision\n",
            "6. Difficulty focusing or concentrating\n",
            "7. Fatigue or drowsiness\n",
            "8. Trouble speaking or understanding speech\n",
            "9. Muscle tension or stiff neck\n",
            "10. Seizures (for severe headaches, especially in people with no history of seizures)\n",
            "\n",
            "If you are experiencing any of these symptoms, it's important to seek medical attention. Headaches can be a sign of serious conditions, such as brain tumors, meningitis, or migraines. If you have a headache that suddenly becomes intense, suddenly worsens, or is accompanied by weakness, numbness, confusion, or speech difficulties, call emergency services immediately.\n",
            "\n"
          ]
        }
      ]
    }
  ]
}